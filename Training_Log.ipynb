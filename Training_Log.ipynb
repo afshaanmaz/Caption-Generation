{
 "cells": [
  {
   "cell_type": "code",
   "execution_count": 1,
   "metadata": {},
   "outputs": [
    {
     "data": {
      "text/plain": [
       "u'/Volumes/Users/asaraswa/Desktop/Project/show-attend-and-tell_ak'"
      ]
     },
     "execution_count": 1,
     "metadata": {},
     "output_type": "execute_result"
    }
   ],
   "source": [
    "pwd"
   ]
  },
  {
   "cell_type": "code",
   "execution_count": null,
   "metadata": {},
   "outputs": [
    {
     "name": "stdout",
     "output_type": "stream",
     "text": [
      "hi hello\n"
     ]
    }
   ],
   "source": [
    "from core.solver import CaptioningSolver\n",
    "from core.model import CaptionGenerator\n",
    "from core.utils import load_coco_data\n",
    "\n"
   ]
  },
  {
   "cell_type": "code",
   "execution_count": null,
   "metadata": {},
   "outputs": [
    {
     "name": "stdout",
     "output_type": "stream",
     "text": [
      "image_idxs <type 'numpy.ndarray'> (24176,) int32\n",
      "file_names <type 'numpy.ndarray'> (5000,) <U61\n",
      "word_to_idx <type 'dict'> 6991\n",
      "features <type 'numpy.ndarray'> (5000, 196, 512) float32\n",
      "captions <type 'numpy.ndarray'> (24176, 17) int32\n",
      "Elapse time: 2.02\n",
      "image_idxs <type 'numpy.ndarray'> (482,) int32\n",
      "file_names <type 'numpy.ndarray'> (100,) <U57\n",
      "features <type 'numpy.ndarray'> (100, 196, 512) float32\n",
      "captions <type 'numpy.ndarray'> (482, 17) int32\n",
      "Elapse time: 0.04\n",
      "The number of epoch: 20\n",
      "Data size: 24176\n",
      "Batch size: 128\n",
      "Iterations per epoch: 189\n",
      "Previous epoch loss:  -1\n",
      "Current epoch loss:  9884.15927124\n",
      "Elapsed time:  1628.82103014\n",
      "Saved ./data/val/val.candidate.captions.pkl..\n",
      "{'reflen': 1018, 'guess': [996, 896, 796, 696], 'testlen': 996, 'correct': [571, 176, 48, 12]}\n",
      "ratio: 0.978388998034\n",
      "Bleu_1:\t0.56076889997\n",
      "Bleu_2:\t0.328244806946\n",
      "Bleu_3:\t0.185229583078\n",
      "Bleu_4:\t0.101748391183\n",
      "METEOR:\t0.141917796554\n",
      "ROUGE_L: 0.443483499166\n",
      "CIDEr:\t0.239172701358\n",
      "model-1 saved.\n",
      "Previous epoch loss:  9884.15927124\n",
      "Current epoch loss:  7454.26183319\n",
      "Elapsed time:  3185.902565\n",
      "Saved ./data/val/val.candidate.captions.pkl..\n",
      "{'reflen': 1031, 'guess': [1019, 919, 819, 719], 'testlen': 1019, 'correct': [637, 231, 71, 20]}\n",
      "ratio: 0.988360814742\n",
      "Bleu_1:\t0.617804244065\n",
      "Bleu_2:\t0.391756758441\n",
      "Bleu_3:\t0.236028453237\n",
      "Bleu_4:\t0.137885931172\n",
      "METEOR:\t0.170045351307\n",
      "ROUGE_L: 0.476173987155\n",
      "CIDEr:\t0.390973737863\n",
      "model-2 saved.\n",
      "Previous epoch loss:  7454.26183319\n",
      "Current epoch loss:  6652.98633957\n",
      "Elapsed time:  4732.94745708\n",
      "Saved ./data/val/val.candidate.captions.pkl..\n",
      "{'reflen': 1052, 'guess': [1046, 946, 846, 746], 'testlen': 1046, 'correct': [645, 229, 77, 28]}\n",
      "ratio: 0.994296577946\n",
      "Bleu_1:\t0.613107822418\n",
      "Bleu_2:\t0.384144849864\n",
      "Bleu_3:\t0.237250101257\n",
      "Bleu_4:\t0.149412458737\n",
      "METEOR:\t0.171496136281\n",
      "ROUGE_L: 0.482304776914\n",
      "CIDEr:\t0.466419638635\n",
      "model-3 saved.\n",
      "Previous epoch loss:  6652.98633957\n",
      "Current epoch loss:  6132.79351234\n",
      "Elapsed time:  6281.50861502\n",
      "Saved ./data/val/val.candidate.captions.pkl..\n",
      "{'reflen': 1056, 'guess': [1050, 950, 850, 750], 'testlen': 1050, 'correct': [664, 255, 86, 30]}\n",
      "ratio: 0.994318181817\n",
      "Bleu_1:\t0.628777651887\n",
      "Bleu_2:\t0.409652863514\n",
      "Bleu_3:\t0.256533022193\n",
      "Bleu_4:\t0.160972628379\n",
      "METEOR:\t0.184052222759\n",
      "ROUGE_L: 0.48896935668\n",
      "CIDEr:\t0.485977495964\n",
      "model-4 saved.\n",
      "Previous epoch loss:  6132.79351234\n",
      "Current epoch loss:  5719.7871933\n",
      "Elapsed time:  7829.92553616\n",
      "Saved ./data/val/val.candidate.captions.pkl..\n",
      "{'reflen': 1088, 'guess': [1096, 996, 896, 796], 'testlen': 1096, 'correct': [680, 266, 88, 26]}\n",
      "ratio: 1.00735294118\n",
      "Bleu_1:\t0.620437956204\n",
      "Bleu_2:\t0.407061780967\n",
      "Bleu_3:\t0.253414682138\n",
      "Bleu_4:\t0.151840945663\n",
      "METEOR:\t0.189055183924\n",
      "ROUGE_L: 0.489980493996\n",
      "CIDEr:\t0.540740631962\n",
      "model-5 saved.\n",
      "Previous epoch loss:  5719.7871933\n",
      "Current epoch loss:  5350.26931953\n",
      "Elapsed time:  9389.96357512\n",
      "Saved ./data/val/val.candidate.captions.pkl..\n",
      "{'reflen': 1071, 'guess': [1068, 968, 868, 768], 'testlen': 1068, 'correct': [660, 237, 69, 21]}\n",
      "ratio: 0.997198879551\n",
      "Bleu_1:\t0.616244071925\n",
      "Bleu_2:\t0.387884930552\n",
      "Bleu_3:\t0.228474858686\n",
      "Bleu_4:\t0.134288353694\n",
      "METEOR:\t0.181924983415\n",
      "ROUGE_L: 0.47909470506\n",
      "CIDEr:\t0.501679465883\n",
      "model-6 saved.\n"
     ]
    }
   ],
   "source": [
    "\n",
    "def main():\n",
    "    data = load_coco_data(data_path='./data', split='train')\n",
    "    word_to_idx = data['word_to_idx']\n",
    "    # load val dataset to print out bleu scores every epoch\n",
    "    val_data = load_coco_data(data_path='./data', split='val')\n",
    "\n",
    "    model = CaptionGenerator(word_to_idx, dim_feature=[196, 512], dim_embed=512,\n",
    "                                       dim_hidden=1024, n_time_step=16, prev2out=True, \n",
    "                                                 ctx2out=True, alpha_c=1.0, selector=True, dropout=True)\n",
    "\n",
    "    solver = CaptioningSolver(model, data, val_data, n_epochs=20, batch_size=128, update_rule='adam',\n",
    "                                          learning_rate=0.001, print_every=1000, save_every=1, image_path='./image/',\n",
    "                                    pretrained_model=None, model_path='model/lstm/', test_model='model/lstm/model-10',\n",
    "                                     print_bleu=True, log_path='log/')\n",
    "\n",
    "    solver.train()\n",
    "\n",
    "if __name__ == \"__main__\":\n",
    "    main()"
   ]
  }
 ],
 "metadata": {
  "kernelspec": {
   "display_name": "Python 2",
   "language": "python",
   "name": "python2"
  },
  "language_info": {
   "codemirror_mode": {
    "name": "ipython",
    "version": 2
   },
   "file_extension": ".py",
   "mimetype": "text/x-python",
   "name": "python",
   "nbconvert_exporter": "python",
   "pygments_lexer": "ipython2",
   "version": "2.7.10"
  }
 },
 "nbformat": 4,
 "nbformat_minor": 2
}
